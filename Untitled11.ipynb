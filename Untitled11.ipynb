{
  "nbformat": 4,
  "nbformat_minor": 0,
  "metadata": {
    "colab": {
      "provenance": [],
      "authorship_tag": "ABX9TyPVw29HWgb9ozyjIceID2cG",
      "include_colab_link": true
    },
    "kernelspec": {
      "name": "python3",
      "display_name": "Python 3"
    },
    "language_info": {
      "name": "python"
    }
  },
  "cells": [
    {
      "cell_type": "markdown",
      "metadata": {
        "id": "view-in-github",
        "colab_type": "text"
      },
      "source": [
        "<a href=\"https://colab.research.google.com/github/rahmosthated/recipe-book/blob/main/Untitled11.ipynb\" target=\"_parent\"><img src=\"https://colab.research.google.com/assets/colab-badge.svg\" alt=\"Open In Colab\"/></a>"
      ]
    },
    {
      "cell_type": "code",
      "execution_count": null,
      "metadata": {
        "id": "JiLIWNpex0eJ"
      },
      "outputs": [],
      "source": [
        "# Step 1: Create a list of recipe dictionaries\n",
        "recipes = [\n",
        "    {\n",
        "        \"Name\": \"Pasta\",\n",
        "        \"Ingredients\": [\"pasta\", \"tomato sauce\", \"cheese\"],\n",
        "        \"Cooking Time\": 30,  # in minutes\n",
        "        \"Servings\": 4\n",
        "    },\n",
        "    {\n",
        "        \"Name\": \"Omelette\",\n",
        "        \"Ingredients\": [\"eggs\", \"milk\", \"salt\", \"pepper\"],\n",
        "        \"Cooking Time\": 10,\n",
        "        \"Servings\": 1\n",
        "    }\n",
        "]\n",
        "\n",
        "# Step 2: Print the original recipes\n",
        "print(\"Initial Recipes:\")\n",
        "for recipe in recipes:\n",
        "    print(recipe)\n",
        "\n",
        "# Step 3: Change cooking time of Pasta to 25 minutes\n",
        "print(\"\\nBefore Cooking Time Change:\")\n",
        "for recipe in recipes:\n",
        "    print(recipe)\n",
        "\n",
        "recipes[0][\"Cooking Time\"] = 25  # Update cooking time for Pasta\n",
        "\n",
        "print(\"\\nAfter Cooking Time Change:\")\n",
        "for recipe in recipes:\n",
        "    print(recipe)\n",
        "\n",
        "# Step 4: Add a new recipe for Salad\n",
        "salad = {\n",
        "    \"Name\": \"Salad\",\n",
        "    \"Ingredients\": [\"lettuce\", \"tomatoes\", \"cucumber\"],\n",
        "    \"Cooking Time\": 15,\n",
        "    \"Servings\": 2\n",
        "}\n",
        "recipes.append(salad)  # Add salad to the list\n",
        "\n",
        "# Step 5: Print updated recipes list\n",
        "print(\"\\nFinal Recipes List:\")\n",
        "for recipe in recipes:\n",
        "    print(recipe)\n"
      ]
    }
  ]
}